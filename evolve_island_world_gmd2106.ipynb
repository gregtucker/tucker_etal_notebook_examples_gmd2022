{
 "cells": [
  {
   "cell_type": "markdown",
   "metadata": {},
   "source": [
    "# Evolve Island World\n",
    "\n",
    "*(Greg Tucker, University of Colorado Boulder, spring 2021)*\n",
    "\n",
    "(Version GMD2106)\n",
    "\n",
    "Demonstration of a Landlab-built simulation of the morphological evolution of a hypothetical island micro-continent.\n",
    "\n",
    "This version was configured to generate an illustration to accompany a manuscript by Tucker et al., submitted to Geoscientific Model Development in summer 2021."
   ]
  },
  {
   "cell_type": "markdown",
   "metadata": {},
   "source": [
    "## Set up and initialize"
   ]
  },
  {
   "cell_type": "code",
   "execution_count": null,
   "metadata": {},
   "outputs": [],
   "source": [
    "from landlab.io.native_landlab import load_grid, save_grid\n",
    "from landlab import imshow_grid, RasterModelGrid\n",
    "import time\n",
    "import numpy as np\n",
    "import matplotlib as mpl\n",
    "import matplotlib.pyplot as plt\n",
    "import copy\n",
    "import cmocean\n",
    "import datetime"
   ]
  },
  {
   "cell_type": "markdown",
   "metadata": {},
   "source": [
    "### Set parameters"
   ]
  },
  {
   "cell_type": "code",
   "execution_count": null,
   "metadata": {},
   "outputs": [],
   "source": [
    "# Parameters: subaerial erosion/transport/deposition\n",
    "K_br = 1.0e-5 # fluvial erosion coefficient, 1/y\n",
    "v_s = 1.0 # fluvial deposition parameter, -\n",
    "\n",
    "# Parameters: submarine sediment transport\n",
    "sea_level_delta = 0.4 # scale factor for random SL variation, m\n",
    "wave_base = 50.0 # depth to wave base, m\n",
    "marine_diff = 100.0 # marine sediment diffusivity, m2/y\n",
    "\n",
    "# Parameters: tectonics and flexure\n",
    "extension_rate = 0.01 # horizontal extension rate, m/y\n",
    "fault_dip = 60.0 # surface fault dip, degrees\n",
    "fault_location = 4.0e4 # location parameter for fault, m\n",
    "detachment_depth = 1.0e4 # depth to decollement, m\n",
    "effective_elastic_thickness = 1.0e4 # elastic thickness, m\n",
    "crust_datum = -1.5e4 # depth to datum in crust, m\n",
    "unit_wt = 2650.0 * 9.8 # unit weight of load, kg / m s2\n",
    "\n",
    "# Parameters: numerics and run control\n",
    "dt = 100.0 # time-step duration, y\n",
    "num_iter = 2500 # number of iterations\n",
    "plot_interval = 2000.0 # time interval for plotting, y\n",
    "save_interval = 25000.0 # time interval for saving grid, y\n",
    "ndigits = 3 # number of digits for output files\n",
    "seed = 1 # random seed\n",
    "\n",
    "# Parameters: plotting and display\n",
    "max_elev_for_color_scale = 1650.0 # elevation for color scale in plotting, m\n",
    "scale_fac_for_surface_water = 0.3 # surface water gets color equiv to -this times above scale, -  \n",
    "area_threshold = 5.0e7 # minimum drainage area for displayed streams, m2\n",
    "\n",
    "# Derived or initial parameters\n",
    "current_sea_level = 0.0\n",
    "next_plot = plot_interval # next time to plot\n",
    "next_save = save_interval # next time to save grid\n",
    "frame_num = 0 # current output image frame number\n",
    "save_num = 0 # current save file frame number\n",
    "save_name = 'rift-island-save'\n",
    "\n",
    "# Other initialization\n",
    "np.random.seed(seed)\n",
    "sea_level = [] # list of sea-level values over time"
   ]
  },
  {
   "cell_type": "markdown",
   "metadata": {},
   "source": [
    "### Load grid and topography\n",
    "\n",
    "We start with a previously generated hex grid. This grid includes a topography field that represents a quasi-circular oceanic plateau. We also want to record the perimeter node IDs so we can work with them later."
   ]
  },
  {
   "cell_type": "code",
   "execution_count": null,
   "metadata": {},
   "outputs": [],
   "source": [
    "grid = load_grid('initial_island.grid')\n",
    "z = grid.at_node['topographic__elevation']\n",
    "perimeter_nodes = grid.status_at_node != grid.BC_NODE_IS_CORE"
   ]
  },
  {
   "cell_type": "markdown",
   "metadata": {},
   "source": [
    "#### Display initial topography"
   ]
  },
  {
   "cell_type": "code",
   "execution_count": null,
   "metadata": {},
   "outputs": [],
   "source": [
    "cmap = copy.copy(mpl.cm.get_cmap(\"seismic\"))\n",
    "scale = np.amax(np.abs(z))\n",
    "imshow_grid(grid, z, vmin=-scale, vmax=scale, cmap=cmap)"
   ]
  },
  {
   "cell_type": "markdown",
   "metadata": {},
   "source": [
    "### Create a raster grid for flexure\n",
    "\n",
    "The 2D elastic lithosphere flexure component `Flexure` requires a raster grid (not hex). We will therefore define a separate raster grid for this operation. The grid has the same number of rows and columns as the hex grid, and the same spacing on the two axes. The\n",
    "only difference is that the hex grid has alternate rows offset by half a grid width. (Because we assume that the flexural wavelength is much longer than this, we don't bother interpolating between the grids.)"
   ]
  },
  {
   "cell_type": "code",
   "execution_count": null,
   "metadata": {},
   "outputs": [],
   "source": [
    "flex_rast_grid = RasterModelGrid((grid.number_of_node_rows,\n",
    "                                  grid.number_of_node_columns),\n",
    "                                 xy_spacing=(grid.spacing,\n",
    "                                             0.866 * grid.spacing))"
   ]
  },
  {
   "cell_type": "markdown",
   "metadata": {},
   "source": [
    "### Create grid fields\n",
    "\n",
    "In addition to the `topographic__elevation` field, and the output fields created by the various Components, we need the following fields:\n",
    "\n",
    "- *Water surface elevation:* the \"filled topography\" field used by the flow routing and depression-filling algorithms (using a separate field allows us to fill depressions with water rather than raising the topographic elevations).\n",
    "\n",
    "- *Subaerial flag:* boolean field indicating whether a given node is above current relative sea level.\n",
    "\n",
    "- *Cumulative deposit thickness:* used to track the thickness of sediment and (where negative) cumulative exhumation.\n",
    "\n",
    "- *Upper crust thickness:* used in flexural isostasy calculations to keep track of the time- and  space-varying load.\n",
    "\n",
    "- *Load:* the weight per unit area of rock/sediment (note: in this version we do not track water loading, though ultimately one should)."
   ]
  },
  {
   "cell_type": "code",
   "execution_count": null,
   "metadata": {},
   "outputs": [],
   "source": [
    "# Add field(s)\n",
    "wse = grid.add_zeros('water_surface__elevation',\n",
    "                     at='node',\n",
    "                     clobber=True)\n",
    "subaerial = grid.add_zeros('is_subaerial',\n",
    "                           at='node',\n",
    "                           dtype=bool,\n",
    "                           clobber=True)\n",
    "cum_depo = grid.add_zeros('cumulative_deposit_thickness',\n",
    "                          at='node')\n",
    "thickness = grid.add_zeros('upper_crust_thickness',\n",
    "                           at='node')\n",
    "load = flex_rast_grid.add_zeros(\n",
    "    'lithosphere__overlying_pressure_increment',\n",
    "    at='node'\n",
    ")"
   ]
  },
  {
   "cell_type": "markdown",
   "metadata": {},
   "source": [
    "### Import Components\n",
    "\n",
    "Here we import the Components needed for this model:\n",
    "\n",
    "- FlowAccumulator: handles subaerial routing of surface-water flow. Also creates a FlowDirectorSteepest and a LakeMapperBarnes.\n",
    "\n",
    "- ErosionDeposition: handles erosion and deposition by fluvial processes, using the Davy & Lague (2009) equations.\n",
    "\n",
    "- SimpleSubmarineDiffuser: transports sediment under water using diffusion with a coefficient that varies with local water depth.\n",
    "\n",
    "- ListricKinematicExtender: calculates tectonic extension on an idealized listric normal fault, with periodic horizontal shift of topography in the hangingwall.\n",
    "\n",
    "- Flexure: handles 2D elastic lithosphere flexure."
   ]
  },
  {
   "cell_type": "code",
   "execution_count": null,
   "metadata": {},
   "outputs": [],
   "source": [
    "from landlab.components import (FlowAccumulator,\n",
    "                                ErosionDeposition,\n",
    "                                SimpleSubmarineDiffuser,\n",
    "                                ListricKinematicExtender,\n",
    "                                Flexure\n",
    "                               )"
   ]
  },
  {
   "cell_type": "markdown",
   "metadata": {},
   "source": [
    "### Instantiate Components\n",
    "\n",
    "Note that Flexure gets its own grid."
   ]
  },
  {
   "cell_type": "code",
   "execution_count": null,
   "metadata": {},
   "outputs": [],
   "source": [
    "fa = FlowAccumulator(grid,\n",
    "                     depression_finder='LakeMapperBarnes',\n",
    "                     fill_surface=wse,\n",
    "                     redirect_flow_steepest_descent=True,\n",
    "                     reaccumulate_flow=True)\n",
    "\n",
    "ed = ErosionDeposition(grid,\n",
    "           K=K_br,\n",
    "           v_s=v_s,\n",
    "           solver='adaptive')\n",
    "\n",
    "sd = SimpleSubmarineDiffuser(grid,\n",
    "                             sea_level=0.0,\n",
    "                             wave_base=wave_base, \n",
    "                             shallow_water_diffusivity=marine_diff)\n",
    "\n",
    "ke = ListricKinematicExtender(grid,\n",
    "                       extension_rate=extension_rate,\n",
    "                       fault_dip=fault_dip,\n",
    "                       fault_location=fault_location,\n",
    "                       detachment_depth=detachment_depth,\n",
    "                       track_crustal_thickness=True\n",
    "                       )\n",
    "\n",
    "fl = Flexure(flex_rast_grid,\n",
    "             eet=effective_elastic_thickness,\n",
    "             method='flexure'\n",
    "            )"
   ]
  },
  {
   "cell_type": "markdown",
   "metadata": {},
   "source": [
    "### Define sea level function\n",
    "\n",
    "This function adds or subtracts a random amount to the current sea level."
   ]
  },
  {
   "cell_type": "code",
   "execution_count": null,
   "metadata": {},
   "outputs": [],
   "source": [
    "def sea_level_random(current_sea_level, delta):\n",
    "    return current_sea_level + delta * np.random.randn()"
   ]
  },
  {
   "cell_type": "markdown",
   "metadata": {},
   "source": [
    "### Set up flexure and tectonic subsidence\n",
    "\n",
    "To initialize calculation of flexural isostasy and rift-related subsidence, we need to calculate:\n",
    "\n",
    "- the starting crustal thickness (above the datum, which is arbitrary)\n",
    "- the load created by this thickness\n",
    "- the initial lithospheric deflection (calculated via a call to Flexure.update())\n",
    "\n",
    "We save this initial deflection, so that for each time step we can calculate the net deflection over time (in other words, the initial deflection is assumed to be \"already accounted for\" in the initial topography).\n",
    "\n",
    "We also create a shorthand variable, *cum_subs*, to access the cumulative subsidence field."
   ]
  },
  {
   "cell_type": "code",
   "execution_count": null,
   "metadata": {},
   "outputs": [],
   "source": [
    "# Prepare flexure and tectonic subsidence\n",
    "thickness[:] = z - crust_datum\n",
    "load[:] = unit_wt * thickness\n",
    "fl.update()\n",
    "deflection = flex_rast_grid.at_node['lithosphere_surface__elevation_increment']\n",
    "init_deflection = deflection.copy()\n",
    "cum_subs = grid.at_node['cumulative_subsidence_depth']\n",
    "\n",
    "# for tracking purposes\n",
    "init_thickness = thickness.copy()"
   ]
  },
  {
   "cell_type": "markdown",
   "metadata": {},
   "source": [
    "### Create a display function\n",
    "\n",
    "This function displays the current topography, and saves a plot to file."
   ]
  },
  {
   "cell_type": "code",
   "execution_count": null,
   "metadata": {},
   "outputs": [],
   "source": [
    "def display_island(grid, current_sea_level, frame_num, ndigits):\n",
    "    z = grid.at_node['topographic__elevation']\n",
    "    fa.run_one_step() # re-run flow router to update the water-surface height\n",
    "    wse = grid.at_node['water_surface__elevation']\n",
    "    fresh_water_elev_scale = -(scale_fac_for_surface_water\n",
    "                               * max_elev_for_color_scale)\n",
    "    earth_sea = z - current_sea_level\n",
    "    area = grid.at_node['drainage_area']\n",
    "    is_channel_or_flooded = np.logical_or(area > area_threshold,\n",
    "                                          wse > z)\n",
    "    is_fresh_water = np.logical_and(is_channel_or_flooded,\n",
    "                                    earth_sea > 0.0)\n",
    "    earth_sea[is_fresh_water] = fresh_water_elev_scale\n",
    "    imshow_grid(grid, earth_sea,\n",
    "                cmap=cmocean.cm.topo,\n",
    "                vmin=-max_elev_for_color_scale,\n",
    "                vmax=max_elev_for_color_scale)\n",
    "    plt.axis(False)\n",
    "    plt.savefig('island' + str(frame_num).zfill(ndigits) + '.png')"
   ]
  },
  {
   "cell_type": "markdown",
   "metadata": {},
   "source": [
    "### Display the starting topography\n",
    "\n",
    "Create an image of the starting condition."
   ]
  },
  {
   "cell_type": "code",
   "execution_count": null,
   "metadata": {},
   "outputs": [],
   "source": [
    "display_island(grid, 0.0, 0, ndigits)"
   ]
  },
  {
   "cell_type": "markdown",
   "metadata": {},
   "source": [
    "## Run\n",
    "\n",
    "### Tectonics and flexure\n",
    "\n",
    "The kinematic extender updates the cumulative subsidence created by the fact that the hangingwall is sliding down a listric ramp. The load is then calculated based on the current thickness minus what has been lost to subsidence (because subsidence comes from local thinning of the crust as the hangingwall slides by, in general replacing a thicker slice with a thinner one). The isostatic deflection is calculated based on the updated load. The topography is then updated by adding the thickness field to the crustal datum elevation, and subtracting the cumulative subsidence plus the isostatic subsidence (which in many places will be negative, i.e., isostatic uplift in response to tectonic and erosional thinning).\n",
    "\n",
    "### Sea level\n",
    "\n",
    "Current sea level is updated, and appended to the list to keep track of sea-level history. Subaerial and submarine nodes are identified based on the new sea level.\n",
    "\n",
    "### Copying present topography\n",
    "\n",
    "We make a copy of the topography at this point in order to later calculate the *change* in topography due to erosion and sedimentation.\n",
    "\n",
    "### Subaerial erosion and deposition\n",
    "\n",
    "In order to restrict subaerial flow routing and fluvial erosion/deposition to land only, we change the boundary status such that all submarine nodes are flagged as boundary (fixed-value) nodes. We then run the flow-routing algorithms, followed by running the ErosionDeposition (fluvial) Component for one time step.\n",
    "\n",
    "### Submarine erosion and deposition\n",
    "\n",
    "In order to keep track of sediment delivered to the shoreline by rivers, we take the fluvial sediment-influx field, which is in m3/y, and convert it to a deposition rate by dividing by cell area. For submarine nodes, which were previously treated as boundaries and so were not updated for deposition, we now deposit this material by adding one time step's worth of deposition.\n",
    "\n",
    "We now apply submarine water-depth-dependent diffusion. This calculation will be applied to the entire grid, with an arbitrarily small diffusion coefficient applied to subaerial nodes. To enable this, we switch the boundary status of submarine nodes back to CORE, while keeping the perimeter nodes as open (fixed-value) boundaries.\n",
    "\n",
    "### Cumulative erosion and deposition\n",
    "\n",
    "We update the cumulative erosion/deposition by differencing the topography before and after this latest time step (because we copied the topography *after* doing tectonics and flexure, we include here only the effects of erosion and deposition).\n",
    "\n",
    "### Updating crustal thickness\n",
    "\n",
    "We need to keep track of crustal thickness for the flexure calculations. Here we modify crustal thickness by adding/subtracting and deposition/erosion during this time step.\n",
    "\n",
    "### Plotting and saving\n",
    "\n",
    "We periodically pause to plot an image of the model to a file, and/or to save the run to a Landlab .grid file."
   ]
  },
  {
   "cell_type": "code",
   "execution_count": null,
   "metadata": {},
   "outputs": [],
   "source": [
    "for i in range(1, num_iter + 1):\n",
    "\n",
    "    print(i)\n",
    "\n",
    "    # Tectonic extension & flexure\n",
    "    ke.run_one_step(dt) # update extensional subsidence\n",
    "    load[grid.core_nodes] = (unit_wt\n",
    "                             * (thickness[grid.core_nodes]\n",
    "                                - cum_subs[grid.core_nodes]))\n",
    "    fl.update() # update flexure\n",
    "    z[:] = (crust_datum + thickness \n",
    "            - (cum_subs + (deflection - init_deflection)))\n",
    "\n",
    "    # Adjust sea level\n",
    "    current_sea_level = sea_level_random(current_sea_level,\n",
    "                                         sea_level_delta)\n",
    "    print('Sea level = ' + str(current_sea_level) + ' m')\n",
    "    sea_level.append(current_sea_level)\n",
    "    subaerial[:] = z > current_sea_level\n",
    "    submarine = np.invert(subaerial)\n",
    "\n",
    "    # Remember previous topo\n",
    "    z0 = z.copy()\n",
    "\n",
    "    # Subaerial erosion\n",
    "    # a. make the submarine nodes open boundaries\n",
    "    grid.status_at_node[submarine] = grid.BC_NODE_IS_FIXED_VALUE\n",
    "    grid.status_at_node[subaerial] = grid.BC_NODE_IS_CORE\n",
    "    # b. route flow\n",
    "    fa.run_one_step()\n",
    "    # c. do some erosion\n",
    "    ed.run_one_step(dt)\n",
    "\n",
    "    # Submarine deposition\n",
    "    depo_rate = ed._qs_in / grid.area_of_cell[0]\n",
    "    z[submarine] += depo_rate[submarine] * dt\n",
    "\n",
    "    # Submarine diffusion\n",
    "    # a. make the submarine nodes core\n",
    "    grid.status_at_node[submarine] = grid.BC_NODE_IS_CORE\n",
    "    grid.status_at_node[perimeter_nodes] = grid.BC_NODE_IS_FIXED_VALUE\n",
    "    # b. diffuse\n",
    "    sd.sea_level = current_sea_level\n",
    "    sd.run_one_step(dt)\n",
    "\n",
    "    # Cumulative depo\n",
    "    cum_depo[grid.core_nodes] += z[grid.core_nodes] - z0[grid.core_nodes]\n",
    "\n",
    "    # Update crustal thickness\n",
    "    thickness[grid.core_nodes] += z[grid.core_nodes] - z0[grid.core_nodes]\n",
    "\n",
    "    # Plot\n",
    "    if i*dt >= next_plot:\n",
    "        frame_num += 1\n",
    "        plt.clf()\n",
    "        display_island(grid, current_sea_level, frame_num, ndigits)\n",
    "        next_plot += plot_interval\n",
    "\n",
    "    # Save\n",
    "    if i*dt >= next_save:\n",
    "        save_num += 1\n",
    "        this_save_name = (save_name\n",
    "                          + str(save_num).zfill(ndigits)\n",
    "                          + '.grid')\n",
    "        save_grid(grid, this_save_name, clobber=True)\n",
    "        next_save += save_interval"
   ]
  },
  {
   "cell_type": "markdown",
   "metadata": {},
   "source": [
    "## Finalize\n",
    "\n",
    "Here we do some plotting of the model's state at the end of the run."
   ]
  },
  {
   "cell_type": "markdown",
   "metadata": {},
   "source": [
    "### Topography & bathymetry\n",
    "\n",
    "Note that bathymetry is cut off; colors indicating the deepest should be take as that deep OR DEEPER."
   ]
  },
  {
   "cell_type": "code",
   "execution_count": null,
   "metadata": {},
   "outputs": [],
   "source": [
    "import cmocean\n",
    "import datetime\n",
    "\n",
    "area_threshold = 5e7\n",
    "za = grid.at_node['topographic__elevation'] - current_sea_level\n",
    "cscale = 1500.0\n",
    "deep_water_scale = -cscale\n",
    "river_scale = -0.5 * cscale\n",
    "\n",
    "river = np.logical_and(\n",
    "    grid.at_node['drainage_area'] > area_threshold,\n",
    "    za > 0.0\n",
    ")\n",
    "za[river] = river_scale\n",
    "\n",
    "za[za < deep_water_scale] = deep_water_scale\n",
    "\n",
    "fa.run_one_step()\n",
    "lake = np.logical_and(wse > z, za > 0.0)\n",
    "za[lake] = river_scale\n",
    "\n",
    "imshow_grid(grid, za, cmap=cmocean.cm.topo, vmin=-cscale,\n",
    "            vmax=cscale)\n",
    "plt.axis(False)\n",
    "figname = ('rift-island-t'\n",
    "           + str(int(num_iter * dt))\n",
    "           + '-'\n",
    "           + datetime.date.today().strftime('%y%m%d')\n",
    "           + '.pdf'\n",
    "          )\n",
    "plt.savefig(figname)"
   ]
  },
  {
   "cell_type": "markdown",
   "metadata": {},
   "source": [
    "### Cumulative deposition/erosion"
   ]
  },
  {
   "cell_type": "code",
   "execution_count": null,
   "metadata": {},
   "outputs": [],
   "source": [
    "cdep = cum_depo.copy()\n",
    "cdep[perimeter_nodes] = 0.0\n",
    "dmax = np.amax(np.abs(cdep))\n",
    "imshow_grid(grid, cdep, cmap='Spectral', vmin=-dmax, vmax=dmax)\n",
    "plt.axis(False)\n",
    "plt.savefig('cum_depo.png')"
   ]
  },
  {
   "cell_type": "markdown",
   "metadata": {},
   "source": [
    "### Sea-level history"
   ]
  },
  {
   "cell_type": "code",
   "execution_count": null,
   "metadata": {},
   "outputs": [],
   "source": [
    "plt.plot(0.001 * dt * np.arange(len(sea_level)), sea_level)\n",
    "plt.xlabel('Time since start of run (ky)')\n",
    "plt.ylabel('Sea level (m)')\n",
    "plt.title('Sea level history')\n",
    "plt.grid(True)"
   ]
  },
  {
   "cell_type": "markdown",
   "metadata": {},
   "source": [
    "### Cross-sectional profile"
   ]
  },
  {
   "cell_type": "code",
   "execution_count": null,
   "metadata": {},
   "outputs": [],
   "source": [
    "startnode = ((grid.number_of_node_rows // 2)\n",
    "             * grid.number_of_node_columns)\n",
    "endnode = startnode + grid.number_of_node_columns\n",
    "midrow = np.arange(startnode, endnode, dtype=int)\n",
    "\n",
    "x = 0.001 * grid.spacing * np.arange(0.0, len(midrow))\n",
    "\n",
    "plt.figure()\n",
    "plt.plot(x, z[midrow] - np.maximum(cdep[midrow], 0.0),\n",
    "         'k:', label='Basement')\n",
    "plt.plot(x, z[midrow], 'g', label='Surface')\n",
    "plt.plot([0, max(x)],\n",
    "         [current_sea_level, current_sea_level],\n",
    "         label='Sea level'\n",
    "        )\n",
    "plt.xlabel('Distance (km)')\n",
    "plt.ylabel('Elevation (m)')\n",
    "plt.legend()\n",
    "plt.grid(True)"
   ]
  },
  {
   "cell_type": "markdown",
   "metadata": {},
   "source": [
    "### Flexure"
   ]
  },
  {
   "cell_type": "code",
   "execution_count": null,
   "metadata": {},
   "outputs": [],
   "source": [
    "net_flex = init_deflection - deflection\n",
    "imshow_grid(flex_rast_grid, net_flex)"
   ]
  },
  {
   "cell_type": "markdown",
   "metadata": {},
   "source": [
    "End of notebook."
   ]
  }
 ],
 "metadata": {
  "kernelspec": {
   "display_name": "Python 3 (ipykernel)",
   "language": "python",
   "name": "python3"
  },
  "language_info": {
   "codemirror_mode": {
    "name": "ipython",
    "version": 3
   },
   "file_extension": ".py",
   "mimetype": "text/x-python",
   "name": "python",
   "nbconvert_exporter": "python",
   "pygments_lexer": "ipython3",
   "version": "3.8.12"
  }
 },
 "nbformat": 4,
 "nbformat_minor": 4
}
