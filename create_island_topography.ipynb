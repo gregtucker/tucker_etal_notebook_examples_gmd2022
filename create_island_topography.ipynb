{
 "cells": [
  {
   "cell_type": "markdown",
   "metadata": {},
   "source": [
    "# Create Initial Island Topography\n",
    "\n",
    "*(Version GMD210606. Created by Greg Tucker, University of Colorado Boulder.)*\n",
    "\n",
    "Creates initial topography for a hypothetical oceanic plateau, roughly circular in outline, surrounded by deep water. Used as an initial condition for an example simulation illustrated in a manuscript submitted by Tucker et al. to Geoscientific Modeling Development, summer 2021."
   ]
  },
  {
   "cell_type": "code",
   "execution_count": null,
   "metadata": {},
   "outputs": [],
   "source": [
    "from landlab import HexModelGrid, imshow_grid\n",
    "from landlab.ca.hex_cts import HexCTS\n",
    "from landlab.ca.celllab_cts import Transition\n",
    "import numpy as np"
   ]
  },
  {
   "cell_type": "markdown",
   "metadata": {},
   "source": [
    "## Initialize\n",
    "\n",
    "### Set parameters\n",
    "\n",
    "Use these parameters to control the size and topographic properties of the island:"
   ]
  },
  {
   "cell_type": "code",
   "execution_count": null,
   "metadata": {},
   "outputs": [],
   "source": [
    "nrows = 257 # number of rows in grid\n",
    "ncols = 257 # number of columns\n",
    "dx = 1000.0 # spacing between grid points, m\n",
    "fill_proportion = 0.5 # proportion of grid cells that are part of the initial island/plateau\n",
    "mean_ocean_elev = -2500.0 # average mean elevation (-depth) of sea floor, m\n",
    "stdev_elev = 400.0 # standard deviation of random noise applied to elevations (pre-smoothing), m\n",
    "shield_slope = 0.01 # average slope of island topography\n",
    "smoothing_length = 2000.0 # length scale for diffusive smoothing, m"
   ]
  },
  {
   "cell_type": "markdown",
   "metadata": {},
   "source": [
    "### Define the PlateauGenerator class\n",
    "\n",
    "The `PlateauGenerator` is a simple cellular automaton model derived from Landlab's `HexCTS` continuous-time stochastic cellular modeling class, which uses a hexagonal grid. The idea is to use an Eden growth algorithm to create a quasi-circular island. The algorithm starts with a binary hex grid in which all nodes are initially zero (\"out\") except the middle node, which has the value 1 (\"in\"). Wherever an \"in\" node is adjacent to an \"out\" node (representing a point on the perimeter of the island), there is a fixed probably per unit time that the \"out\" node will be added to the island (by converting it to an \"in\") node. With the CTS framework, this is easy to accomplish: just define two transition types, one transitioning from a node pair with (0, 1) to (1, 1), and the other transitioninig from a node pair with (1, 0) to (1, 1). Both transitions are given a unit rate.\n",
    "\n",
    "The algorithm proceeds until a user-specified target fill proportion (i.e., the proportion of nodes in the grid that are in the \"in\" state) has been reached or slightly exceeded.\n",
    "\n",
    "For information about the CTS framework, see [Tucker et al. (2016)](https://doi.org/10.5194/gmd-9-823-2016), and the [online documentation](https://landlab.readthedocs.io/en/latest/user_guide/cell_lab_user_guide.html)."
   ]
  },
  {
   "cell_type": "code",
   "execution_count": null,
   "metadata": {},
   "outputs": [],
   "source": [
    "class PlateauGenerator(HexCTS):\n",
    "    def __init__(\n",
    "        self, nrows=11, ncols=11, dx=1.0, target_fill_proportion=0.5, dt=1.0, seed=0\n",
    "    ):\n",
    "\n",
    "        self.create_grid(nrows, ncols, dx)\n",
    "        self.node_state = self.grid.at_node[\"node_state\"]\n",
    "        middle_node = self.grid.number_of_nodes // 2\n",
    "        self.node_state[middle_node] = 1\n",
    "        self.target_fill_proportion = target_fill_proportion\n",
    "        self.dt = dt\n",
    "\n",
    "        node_state_dict = {0: \"out\", 1: \"in\"}\n",
    "        transition_list = [\n",
    "            Transition((0, 1, 0), (1, 1, 0), 1.0),\n",
    "            Transition((1, 0, 0), (1, 1, 0), 1.0),\n",
    "        ]\n",
    "\n",
    "        super().__init__(\n",
    "            self.grid, node_state_dict, transition_list, self.node_state, seed=seed\n",
    "        )\n",
    "\n",
    "    def create_grid(self, nrows, ncols, dx):\n",
    "        \"\"\"Make the grid.\"\"\"\n",
    "        self.grid = HexModelGrid((nrows, ncols), dx, node_layout=\"rect\")\n",
    "        self.grid.add_zeros(\"node_state\", at=\"node\", dtype=np.int)\n",
    "\n",
    "    def proportion_filled(self):\n",
    "        return np.count_nonzero(self.node_state) / self.grid.number_of_core_nodes\n",
    "\n",
    "    def go(self):\n",
    "        current_time = 0.0\n",
    "        prop_filled = self.proportion_filled()\n",
    "        while prop_filled < self.target_fill_proportion:\n",
    "            self.run(run_to=current_time + self.dt)\n",
    "            prop_filled = self.proportion_filled()\n",
    "            print(str(np.round(100 * prop_filled)) + \"% filled\")\n",
    "            current_time += self.dt"
   ]
  },
  {
   "cell_type": "markdown",
   "metadata": {},
   "source": [
    "## Run\n",
    "\n",
    "### Create a binary map of island versus sea floor\n",
    "\n",
    "Run the generator to create a binary map of the island."
   ]
  },
  {
   "cell_type": "code",
   "execution_count": null,
   "metadata": {},
   "outputs": [],
   "source": [
    "pg = PlateauGenerator(nrows=nrows, ncols=ncols, dx=dx, target_fill_proportion=fill_proportion)\n",
    "pg.go()"
   ]
  },
  {
   "cell_type": "code",
   "execution_count": null,
   "metadata": {},
   "outputs": [],
   "source": [
    "imshow_grid(pg.grid, 'node_state')"
   ]
  },
  {
   "cell_type": "markdown",
   "metadata": {},
   "source": [
    "### Assign elevations with some random noise\n",
    "\n",
    "Here we give the island some elevation. The island nodes gets a mean elevation of zero, and the sea floor gets a mean elevation specified above in the parameter `mean_ocean_elev`. To each grid node (except boundaries) we then add a normally distributed random variable with a mean of zero and a standard deviation of `stdev_elev`."
   ]
  },
  {
   "cell_type": "code",
   "execution_count": null,
   "metadata": {},
   "outputs": [],
   "source": [
    "grid = pg.grid\n",
    "z = grid.add_zeros('topographic__elevation', at='node', clobber=True)\n",
    "ns = grid.at_node['node_state']"
   ]
  },
  {
   "cell_type": "code",
   "execution_count": null,
   "metadata": {},
   "outputs": [],
   "source": [
    "z[ns==1] = stdev_elev * np.random.standard_normal(len(z[ns==1]))\n",
    "z[ns==0] = mean_ocean_elev + stdev_elev * np.random.standard_normal(len(z[ns==0]))\n",
    "z[grid.boundary_nodes] = mean_ocean_elev # keep the boundary nodes at the mean sea floor elevation"
   ]
  },
  {
   "cell_type": "code",
   "execution_count": null,
   "metadata": {},
   "outputs": [],
   "source": [
    "imshow_grid(grid, z)"
   ]
  },
  {
   "cell_type": "code",
   "execution_count": null,
   "metadata": {},
   "outputs": [],
   "source": [
    "imshow_grid(grid, z, vmin=-100) # highlighting the island"
   ]
  },
  {
   "cell_type": "code",
   "execution_count": null,
   "metadata": {},
   "outputs": [],
   "source": [
    "imshow_grid(grid, z, vmax=mean_ocean_elev+2*stdev_elev) # highlighting the sea floor"
   ]
  },
  {
   "cell_type": "markdown",
   "metadata": {},
   "source": [
    "### Smooth the noisy topography using diffusion\n",
    "\n",
    "To reduce the \"spikiness\" of the initial terrain, we'll smooth it using diffusion. Here we'll aim for a length scale of filtering of $\\sigma$, which we achieve as follows:\n",
    "\n",
    "$\\sigma = \\sqrt{DT}$, where $D=1$ is diffusivity, and $T$ is duration of diffusive smoothing. Example: if we want 5 km of smoothing, then $T = 2.5e7$.\n",
    "\n",
    "We accomplish this using Landlab's `LinearDiffuser` component."
   ]
  },
  {
   "cell_type": "code",
   "execution_count": null,
   "metadata": {},
   "outputs": [],
   "source": [
    "from landlab.components import LinearDiffuser"
   ]
  },
  {
   "cell_type": "code",
   "execution_count": null,
   "metadata": {},
   "outputs": [],
   "source": [
    "duration = smoothing_length ** 2\n",
    "\n",
    "dt = 0.1 * dx * dx\n",
    "print('Duration = ' + str(duration) + ', dt = ' + str(dt))\n",
    "\n",
    "ld = LinearDiffuser(grid, linear_diffusivity=1.0)"
   ]
  },
  {
   "cell_type": "code",
   "execution_count": null,
   "metadata": {},
   "outputs": [],
   "source": [
    "num_steps = int(duration / dt)\n",
    "print(str(num_steps) + ' steps')\n",
    "for i in range(num_steps):\n",
    "    ld.run_one_step(dt)"
   ]
  },
  {
   "cell_type": "code",
   "execution_count": null,
   "metadata": {},
   "outputs": [],
   "source": [
    "imshow_grid(grid, z) # show smoothed topography"
   ]
  },
  {
   "cell_type": "code",
   "execution_count": null,
   "metadata": {},
   "outputs": [],
   "source": [
    "imshow_grid(grid, z, vmin=-100.0, vmax=100.0) # highlighting the island topography"
   ]
  },
  {
   "cell_type": "code",
   "execution_count": null,
   "metadata": {},
   "outputs": [],
   "source": [
    "# highlighting the sea floor\n",
    "imshow_grid(grid, z, vmin=mean_ocean_elev-stdev_elev, vmax=mean_ocean_elev+stdev_elev)"
   ]
  },
  {
   "cell_type": "markdown",
   "metadata": {},
   "source": [
    "### Modify the topography to give the island a shield-like shape\n",
    "\n",
    "We now take our smoothed-random topography and give it a shield-like shape. To do this, the `shieldify` function adds a user-specified height to the center-point of the island, and that added height declines linearly with distance from the center point. (This also has the side effect of making the sea floor also slope away from the island, which we might think of as representing the slope of a thermal swell.)"
   ]
  },
  {
   "cell_type": "code",
   "execution_count": null,
   "metadata": {},
   "outputs": [],
   "source": [
    "# Function to modify the initial topography\n",
    "# to make it vaguely shield-shaped\n",
    "def shieldify(grid, topo, slope, max_add_topo):\n",
    "    x = grid.x_of_node\n",
    "    y = grid.y_of_node\n",
    "    ctr_x = 0.5 * np.amax(x)\n",
    "    ctr_y = 0.5 * np.amax(y)\n",
    "    dist = np.sqrt((x - ctr_x)**2 + (y - ctr_y)**2)\n",
    "    topo[:] += max_add_topo - slope * dist"
   ]
  },
  {
   "cell_type": "code",
   "execution_count": null,
   "metadata": {},
   "outputs": [],
   "source": [
    "island_area = fill_proportion * np.amax(grid.x_of_node) * np.amax(grid.y_of_node)\n",
    "island_radius = (island_area / np.pi) ** 0.5\n",
    "max_ht = shield_slope * island_radius\n",
    "shieldify(grid, z, shield_slope, max_ht)"
   ]
  },
  {
   "cell_type": "markdown",
   "metadata": {},
   "source": [
    "## Finalize\n",
    "\n",
    "We display the final result, and save it to a file."
   ]
  },
  {
   "cell_type": "code",
   "execution_count": null,
   "metadata": {},
   "outputs": [],
   "source": [
    "imshow_grid(grid, z)"
   ]
  },
  {
   "cell_type": "code",
   "execution_count": null,
   "metadata": {},
   "outputs": [],
   "source": [
    "from landlab.io.native_landlab import save_grid"
   ]
  },
  {
   "cell_type": "code",
   "execution_count": null,
   "metadata": {},
   "outputs": [],
   "source": [
    "save_grid(grid, 'initial_island.grid', clobber=True)"
   ]
  },
  {
   "cell_type": "markdown",
   "metadata": {},
   "source": [
    "Now we're ready to import this grid as an initial condition for a model of landscape/seascape evolution."
   ]
  }
 ],
 "metadata": {
  "kernelspec": {
   "display_name": "Python 3 (ipykernel)",
   "language": "python",
   "name": "python3"
  },
  "language_info": {
   "codemirror_mode": {
    "name": "ipython",
    "version": 3
   },
   "file_extension": ".py",
   "mimetype": "text/x-python",
   "name": "python",
   "nbconvert_exporter": "python",
   "pygments_lexer": "ipython3",
   "version": "3.8.12"
  }
 },
 "nbformat": 4,
 "nbformat_minor": 4
}
